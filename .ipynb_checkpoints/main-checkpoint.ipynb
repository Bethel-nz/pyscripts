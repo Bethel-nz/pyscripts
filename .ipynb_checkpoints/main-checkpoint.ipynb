{
 "cells": [
  {
   "cell_type": "code",
   "execution_count": 8,
   "id": "e5243872",
   "metadata": {
    "slideshow": {
     "slide_type": "slide"
    }
   },
   "outputs": [
    {
     "name": "stdout",
     "output_type": "stream",
     "text": [
      "\n",
      "what would you want to do ? \n",
      "\n",
      "1] Shutdown the PC\n",
      "2] Hibernate the PC\n",
      "3] Restart the PC\n",
      "\n",
      "\n",
      "Choose an Option: 2\n",
      "enter the time to wait:  6\n",
      "Abort shutdown ?\n",
      "no\n"
     ]
    }
   ],
   "source": [
    "import os;\n",
    "import time;\n",
    "\n",
    "\n",
    "time.sleep(2)\n",
    "print('''\n",
    "what would you want to do ? \n",
    "\n",
    "1] Shutdown the PC\n",
    "2] Hibernate the PC\n",
    "3] Restart the PC\n",
    "\n",
    "''')\n",
    "\n",
    "time.sleep(2)\n",
    "\n",
    "answer= int(input('Choose an Option: '));\n",
    "user_timer = int(input('enter the time to wait:  '));\n",
    "\n",
    "def s_time(timer):\n",
    "    print('performing action in the next '+ str(timer)+ ' seconds' );\n",
    "    time.sleep(int(timer));\n",
    "    \n",
    "    print('done :)');\n",
    "    \n",
    "if user_timer >= 5:\n",
    "    print('Abort ?')\n",
    "    a_quest = input();\n",
    "    if a_quest == 'y':\n",
    "        os.system('shutdown /a')\n",
    "        \n",
    "if answer == 1:\n",
    "    s_time(user_timer)\n",
    "    os.system('shutdown /s');\n",
    "    \n",
    "elif answer == 2:\n",
    "    s_time(user_timer);\n",
    "    os.system('shutdown /h');\n",
    "    \n",
    "elif answer == 3:\n",
    "    s_time(user_timer);\n",
    "    os.system('shutdown /r');\n",
    "    \n",
    "else:\n",
    "    print('continue with your work .... :)');\n",
    "    \n",
    "    \n",
    "\n"
   ]
  },
  {
   "cell_type": "code",
   "execution_count": null,
   "id": "b7f552e5",
   "metadata": {},
   "outputs": [],
   "source": [
    "names = ['samuel','david','taiwo','jesse','bethel','kenny']\n"
   ]
  }
 ],
 "metadata": {
  "kernelspec": {
   "display_name": "Python 3 (ipykernel)",
   "language": "python",
   "name": "python3"
  },
  "language_info": {
   "codemirror_mode": {
    "name": "ipython",
    "version": 3
   },
   "file_extension": ".py",
   "mimetype": "text/x-python",
   "name": "python",
   "nbconvert_exporter": "python",
   "pygments_lexer": "ipython3",
   "version": "3.11.1"
  }
 },
 "nbformat": 4,
 "nbformat_minor": 5
}
