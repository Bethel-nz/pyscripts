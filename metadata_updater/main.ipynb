{
 "cells": [
  {
   "cell_type": "code",
   "execution_count": 2,
   "metadata": {},
   "outputs": [
    {
     "ename": "SpotifyOauthError",
     "evalue": "No client_id. Pass it or set a SPOTIPY_CLIENT_ID environment variable.",
     "output_type": "error",
     "traceback": [
      "\u001b[1;31m---------------------------------------------------------------------------\u001b[0m",
      "\u001b[1;31mSpotifyOauthError\u001b[0m                         Traceback (most recent call last)",
      "Cell \u001b[1;32mIn[2], line 50\u001b[0m\n\u001b[0;32m     47\u001b[0m                 time\u001b[39m.\u001b[39msleep(\u001b[39m1\u001b[39m)\n\u001b[0;32m     49\u001b[0m \u001b[39mif\u001b[39;00m \u001b[39m__name__\u001b[39m \u001b[39m==\u001b[39m \u001b[39m\"\u001b[39m\u001b[39m__main__\u001b[39m\u001b[39m\"\u001b[39m:\n\u001b[1;32m---> 50\u001b[0m     main()\n",
      "Cell \u001b[1;32mIn[2], line 34\u001b[0m, in \u001b[0;36mmain\u001b[1;34m()\u001b[0m\n\u001b[0;32m     32\u001b[0m \u001b[39mdef\u001b[39;00m \u001b[39mmain\u001b[39m():\n\u001b[0;32m     33\u001b[0m     music_folder \u001b[39m=\u001b[39m \u001b[39m\"\u001b[39m\u001b[39m/path/to/your/music/folder\u001b[39m\u001b[39m\"\u001b[39m\n\u001b[1;32m---> 34\u001b[0m     client_credentials_manager \u001b[39m=\u001b[39m SpotifyClientCredentials()\n\u001b[0;32m     35\u001b[0m     \u001b[39mglobal\u001b[39;00m spotify\n\u001b[0;32m     36\u001b[0m     spotify \u001b[39m=\u001b[39m spotipy\u001b[39m.\u001b[39mSpotify(client_credentials_manager\u001b[39m=\u001b[39mclient_credentials_manager)\n",
      "File \u001b[1;32m~\\AppData\\Local\\Packages\\PythonSoftwareFoundation.Python.3.11_qbz5n2kfra8p0\\LocalCache\\local-packages\\Python311\\site-packages\\spotipy\\oauth2.py:201\u001b[0m, in \u001b[0;36mSpotifyClientCredentials.__init__\u001b[1;34m(self, client_id, client_secret, proxies, requests_session, requests_timeout, cache_handler)\u001b[0m\n\u001b[0;32m    172\u001b[0m \u001b[39m\u001b[39m\u001b[39m\"\"\"\u001b[39;00m\n\u001b[0;32m    173\u001b[0m \u001b[39mCreates a Client Credentials Flow Manager.\u001b[39;00m\n\u001b[0;32m    174\u001b[0m \n\u001b[1;32m   (...)\u001b[0m\n\u001b[0;32m    196\u001b[0m \n\u001b[0;32m    197\u001b[0m \u001b[39m\"\"\"\u001b[39;00m\n\u001b[0;32m    199\u001b[0m \u001b[39msuper\u001b[39m(SpotifyClientCredentials, \u001b[39mself\u001b[39m)\u001b[39m.\u001b[39m\u001b[39m__init__\u001b[39m(requests_session)\n\u001b[1;32m--> 201\u001b[0m \u001b[39mself\u001b[39;49m\u001b[39m.\u001b[39;49mclient_id \u001b[39m=\u001b[39m client_id\n\u001b[0;32m    202\u001b[0m \u001b[39mself\u001b[39m\u001b[39m.\u001b[39mclient_secret \u001b[39m=\u001b[39m client_secret\n\u001b[0;32m    203\u001b[0m \u001b[39mself\u001b[39m\u001b[39m.\u001b[39mproxies \u001b[39m=\u001b[39m proxies\n",
      "File \u001b[1;32m~\\AppData\\Local\\Packages\\PythonSoftwareFoundation.Python.3.11_qbz5n2kfra8p0\\LocalCache\\local-packages\\Python311\\site-packages\\spotipy\\oauth2.py:94\u001b[0m, in \u001b[0;36mSpotifyAuthBase.client_id\u001b[1;34m(self, val)\u001b[0m\n\u001b[0;32m     92\u001b[0m \u001b[39m@client_id\u001b[39m\u001b[39m.\u001b[39msetter\n\u001b[0;32m     93\u001b[0m \u001b[39mdef\u001b[39;00m \u001b[39mclient_id\u001b[39m(\u001b[39mself\u001b[39m, val):\n\u001b[1;32m---> 94\u001b[0m     \u001b[39mself\u001b[39m\u001b[39m.\u001b[39m_client_id \u001b[39m=\u001b[39m _ensure_value(val, \u001b[39m\"\u001b[39;49m\u001b[39mclient_id\u001b[39;49m\u001b[39m\"\u001b[39;49m)\n",
      "File \u001b[1;32m~\\AppData\\Local\\Packages\\PythonSoftwareFoundation.Python.3.11_qbz5n2kfra8p0\\LocalCache\\local-packages\\Python311\\site-packages\\spotipy\\oauth2.py:70\u001b[0m, in \u001b[0;36m_ensure_value\u001b[1;34m(value, env_key)\u001b[0m\n\u001b[0;32m     65\u001b[0m \u001b[39mif\u001b[39;00m _val \u001b[39mis\u001b[39;00m \u001b[39mNone\u001b[39;00m:\n\u001b[0;32m     66\u001b[0m     msg \u001b[39m=\u001b[39m \u001b[39m\"\u001b[39m\u001b[39mNo \u001b[39m\u001b[39m%s\u001b[39;00m\u001b[39m. Pass it or set a \u001b[39m\u001b[39m%s\u001b[39;00m\u001b[39m environment variable.\u001b[39m\u001b[39m\"\u001b[39m \u001b[39m%\u001b[39m (\n\u001b[0;32m     67\u001b[0m         env_key,\n\u001b[0;32m     68\u001b[0m         env_val,\n\u001b[0;32m     69\u001b[0m     )\n\u001b[1;32m---> 70\u001b[0m     \u001b[39mraise\u001b[39;00m SpotifyOauthError(msg)\n\u001b[0;32m     71\u001b[0m \u001b[39mreturn\u001b[39;00m _val\n",
      "\u001b[1;31mSpotifyOauthError\u001b[0m: No client_id. Pass it or set a SPOTIPY_CLIENT_ID environment variable."
     ]
    }
   ],
   "source": [
    "import os\n",
    "import time\n",
    "import spotipy\n",
    "from spotipy.oauth2 import SpotifyClientCredentials\n",
    "from tinytag import TinyTag, TinyTagException\n",
    "\n",
    "def fetch_metadata(file_path):\n",
    "    tag = TinyTag.get(file_path)\n",
    "    query = f'artist:{tag.artist} track:{tag.title}'\n",
    "    results = spotify.search(query, type='track', limit=1)\n",
    "\n",
    "    if results['tracks']['items']:\n",
    "        track = results['tracks']['items'][0]\n",
    "        return {\n",
    "            'artist': track['artists'][0]['name'],\n",
    "            'title': track['name'],\n",
    "            'album': track['album']['name']\n",
    "        }\n",
    "    return None\n",
    "\n",
    "def update_metadata(file_path, metadata):\n",
    "    try:\n",
    "        tag = TinyTag.get(file_path)\n",
    "        tag.artist = metadata['artist']\n",
    "        tag.title = metadata['title']\n",
    "        tag.album = metadata['album']\n",
    "        tag.save(file_path)\n",
    "        print(f'Metadata updated for {file_path}')\n",
    "    except TinyTagException:\n",
    "        print(f'Error updating metadata for {file_path}')\n",
    "\n",
    "def main():\n",
    "    music_folder = \"/path/to/your/music/folder\"\n",
    "    client_credentials_manager = SpotifyClientCredentials()\n",
    "    global spotify\n",
    "    spotify = spotipy.Spotify(client_credentials_manager=client_credentials_manager)\n",
    "\n",
    "    for root, _, files in os.walk(music_folder):\n",
    "        for file in files:\n",
    "            if file.lower().endswith(('.mp3', '.wav', '.flac')):\n",
    "                file_path = os.path.join(root, file)\n",
    "                metadata = fetch_metadata(file_path)\n",
    "                if metadata:\n",
    "                    update_metadata(file_path, metadata)\n",
    "                else:\n",
    "                    print(f'No metadata found for {file_path}')\n",
    "                time.sleep(1)\n",
    "\n",
    "if __name__ == \"__main__\":\n",
    "    main()\n"
   ]
  }
 ],
 "metadata": {
  "kernelspec": {
   "display_name": "Python 3",
   "language": "python",
   "name": "python3"
  },
  "language_info": {
   "codemirror_mode": {
    "name": "ipython",
    "version": 3
   },
   "file_extension": ".py",
   "mimetype": "text/x-python",
   "name": "python",
   "nbconvert_exporter": "python",
   "pygments_lexer": "ipython3",
   "version": "3.11.3"
  },
  "orig_nbformat": 4
 },
 "nbformat": 4,
 "nbformat_minor": 2
}
