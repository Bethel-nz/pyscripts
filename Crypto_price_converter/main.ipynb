{
 "cells": [
  {
   "cell_type": "code",
   "execution_count": 6,
   "metadata": {},
   "outputs": [
    {
     "ename": "TypeError",
     "evalue": "can't multiply sequence by non-int of type 'float'",
     "output_type": "error",
     "traceback": [
      "\u001b[1;31m---------------------------------------------------------------------------\u001b[0m",
      "\u001b[1;31mTypeError\u001b[0m                                 Traceback (most recent call last)",
      "Cell \u001b[1;32mIn[6], line 17\u001b[0m\n\u001b[0;32m     14\u001b[0m     \u001b[39mreturn\u001b[39;00m usd_amount\n\u001b[0;32m     16\u001b[0m solana_amount \u001b[39m=\u001b[39m \u001b[39minput\u001b[39m(\u001b[39m'\u001b[39m\u001b[39mEnter the price you want to convert: \u001b[39m\u001b[39m'\u001b[39m)\n\u001b[1;32m---> 17\u001b[0m usd_amount \u001b[39m=\u001b[39m convert_sol_to_usd(solana_amount)\n\u001b[0;32m     18\u001b[0m \u001b[39mprint\u001b[39m(\u001b[39mf\u001b[39m\u001b[39m\"\u001b[39m\u001b[39m{\u001b[39;00msolana_amount\u001b[39m}\u001b[39;00m\u001b[39m SOL is equivalent to: $\u001b[39m\u001b[39m{\u001b[39;00musd_amount\u001b[39m:\u001b[39;00m\u001b[39m.2f\u001b[39m\u001b[39m}\u001b[39;00m\u001b[39m USD\u001b[39m\u001b[39m\"\u001b[39m)\n",
      "Cell \u001b[1;32mIn[6], line 12\u001b[0m, in \u001b[0;36mconvert_sol_to_usd\u001b[1;34m(sol_amount)\u001b[0m\n\u001b[0;32m     10\u001b[0m \u001b[39mdef\u001b[39;00m \u001b[39mconvert_sol_to_usd\u001b[39m(sol_amount):\n\u001b[0;32m     11\u001b[0m     sol_to_usd_rate \u001b[39m=\u001b[39m get_sol_to_usd_rate()\n\u001b[1;32m---> 12\u001b[0m     usd_amount \u001b[39m=\u001b[39m sol_amount \u001b[39m*\u001b[39;49m sol_to_usd_rate\n\u001b[0;32m     14\u001b[0m     \u001b[39mreturn\u001b[39;00m usd_amount\n",
      "\u001b[1;31mTypeError\u001b[0m: can't multiply sequence by non-int of type 'float'"
     ]
    }
   ],
   "source": [
    "import requests\n",
    "\n",
    "def get_sol_to_usd_rate():\n",
    "    url = \"https://api.coingecko.com/api/v3/simple/price?ids=solana&vs_currencies=usd\"\n",
    "    response = requests.get(url)\n",
    "    data = response.json()\n",
    "    \n",
    "    return data['solana']['usd']\n",
    "\n",
    "def convert_sol_to_usd(sol_amount):\n",
    "    sol_to_usd_rate = get_sol_to_usd_rate()\n",
    "    usd_amount = sol_amount * sol_to_usd_rate\n",
    "\n",
    "    return usd_amount\n",
    "\n",
    "solana_amount = 6.9\n",
    "usd_amount = convert_sol_to_usd(solana_amount)\n",
    "print(f\"{solana_amount} SOL is equivalent to: ${usd_amount:.2f} USD\")\n"
   ]
  }
 ],
 "metadata": {
  "kernelspec": {
   "display_name": "Python 3",
   "language": "python",
   "name": "python3"
  },
  "language_info": {
   "codemirror_mode": {
    "name": "ipython",
    "version": 3
   },
   "file_extension": ".py",
   "mimetype": "text/x-python",
   "name": "python",
   "nbconvert_exporter": "python",
   "pygments_lexer": "ipython3",
   "version": "3.11.3"
  },
  "orig_nbformat": 4
 },
 "nbformat": 4,
 "nbformat_minor": 2
}
