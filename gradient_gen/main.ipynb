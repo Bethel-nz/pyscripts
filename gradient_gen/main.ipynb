{
 "cells": [
  {
   "cell_type": "code",
   "execution_count": 4,
   "metadata": {},
   "outputs": [
    {
     "name": "stdout",
     "output_type": "stream",
     "text": [
      "done\n"
     ]
    }
   ],
   "source": [
    "from PIL import Image\n",
    "import numpy as np\n",
    "import matplotlib.pyplot as plt\n",
    "\n",
    "def generate_gradient_from_image(image_path):\n",
    "    # Load image and convert to numpy array\n",
    "    image = Image.open(image_path).convert('RGB')\n",
    "    image_data = np.asarray(image)\n",
    "\n",
    "    # Extract the color palette from the image\n",
    "    colors = np.unique(image_data.reshape(-1, image_data.shape[2]), axis=0)\n",
    "\n",
    "    # Generate the linear gradient from the color palette\n",
    "    gradient = ''\n",
    "    for i, color in enumerate(colors):\n",
    "        color_code = '#{:02x}{:02x}{:02x}'.format(color[0], color[1], color[2])\n",
    "        gradient += color_code + ' {}%, '.format(int(i * 100 / (len(colors) - 1)))\n",
    "    gradient = gradient[:-2]\n",
    "\n",
    "    # Create the gradient card with the name at the center\n",
    "    card = f\"\"\"<div style=\"background: linear-gradient({gradient}); width: 300px; height: 200px; display: flex; justify-content: center; align-items: center; font-size: 2rem; font-weight: bold;\">{image_path.split('/')[-1].split('.')[0]}</div>\"\"\"\n",
    "\n",
    "    # Save the generated colors as an image\n",
    "    height = len(colors)\n",
    "    width = 1\n",
    "    generated_image = Image.new('RGB', (width, height))\n",
    "    for i, color in enumerate(colors):\n",
    "        for j in range(width):\n",
    "            generated_image.putpixel((j, i), tuple(color))\n",
    "    generated_image.save(\"imagename_generated.jpg\")\n",
    "\n",
    "    return card\n",
    "\n",
    "if __name__ == '__main__':\n",
    "    image_path = 'E:/codes/PyScripts/gradient_gen/neon.jpg'\n",
    "    # gradient_card = generate_gradient_from_image(image_path)\n",
    "    print('done')\n"
   ]
  }
 ],
 "metadata": {
  "kernelspec": {
   "display_name": "Python 3",
   "language": "python",
   "name": "python3"
  },
  "language_info": {
   "codemirror_mode": {
    "name": "ipython",
    "version": 3
   },
   "file_extension": ".py",
   "mimetype": "text/x-python",
   "name": "python",
   "nbconvert_exporter": "python",
   "pygments_lexer": "ipython3",
   "version": "3.11.3"
  },
  "orig_nbformat": 4
 },
 "nbformat": 4,
 "nbformat_minor": 2
}
